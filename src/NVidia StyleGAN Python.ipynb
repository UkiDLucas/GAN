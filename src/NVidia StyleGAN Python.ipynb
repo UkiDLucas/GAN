{
 "cells": [
  {
   "cell_type": "code",
   "execution_count": null,
   "metadata": {},
   "outputs": [],
   "source": []
  },
  {
   "cell_type": "markdown",
   "metadata": {},
   "source": [
    "## NVidia StyleGAN\n",
    "- https://github.com/NVlabs/stylegan\n",
    "\n",
    "## Open Google Colab\n",
    "- https://colab.research.google.com/notebooks/intro.ipynb#recent=true\n",
    "\n",
    "## Jeff Heaton GitHub\n",
    "- https://github.com/jeffheaton/present/blob/master/youtube/style_gan.ipynb\n"
   ]
  },
  {
   "cell_type": "code",
   "execution_count": null,
   "metadata": {},
   "outputs": [],
   "source": []
  }
 ],
 "metadata": {
  "kernelspec": {
   "display_name": "Python 3.6 (tensorflow)",
   "language": "python",
   "name": "py_36_tf"
  },
  "language_info": {
   "codemirror_mode": {
    "name": "ipython",
    "version": 3
   },
   "file_extension": ".py",
   "mimetype": "text/x-python",
   "name": "python",
   "nbconvert_exporter": "python",
   "pygments_lexer": "ipython3",
   "version": "3.7.4"
  }
 },
 "nbformat": 4,
 "nbformat_minor": 4
}
